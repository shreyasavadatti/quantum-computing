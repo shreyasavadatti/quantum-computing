{
 "cells": [
  {
   "cell_type": "code",
   "execution_count": 3,
   "id": "884ea449-04af-45fb-ad5c-841297019323",
   "metadata": {
    "tags": []
   },
   "outputs": [
    {
     "data": {
      "text/plain": [
       "'Statevector([1.+0.j, 0.+0.j, 0.+0.j, 0.+0.j],\\n            dims=(2, 2))'"
      ]
     },
     "execution_count": 3,
     "metadata": {},
     "output_type": "execute_result"
    }
   ],
   "source": [
    "from qiskit import QuantumCircuit\n",
    "from qiskit.quantum_info import Statevector\n",
    "qc = QuantumCircuit(2)\n",
    "ket = Statevector(qc)\n",
    "ket.draw()\n"
   ]
  },
  {
   "cell_type": "code",
   "execution_count": 4,
   "id": "9aa83746-957f-408c-a102-1725305a76d2",
   "metadata": {
    "tags": []
   },
   "outputs": [
    {
     "data": {
      "text/plain": [
       "'Statevector([1.+0.j, 0.+0.j, 0.+0.j, 0.+0.j],\\n            dims=(2, 2))'"
      ]
     },
     "execution_count": 4,
     "metadata": {},
     "output_type": "execute_result"
    }
   ],
   "source": [
    "qc.cx(0,1)\n",
    "\n",
    "ket = Statevector(qc)\n",
    "ket.draw()"
   ]
  },
  {
   "cell_type": "code",
   "execution_count": 6,
   "id": "8726d604-99df-43e0-8733-a07e13c3ad94",
   "metadata": {
    "tags": []
   },
   "outputs": [
    {
     "data": {
      "text/plain": [
       "'Statevector([0.+0.j, 0.+0.j, 1.+0.j, 0.+0.j],\\n            dims=(2, 2))'"
      ]
     },
     "execution_count": 6,
     "metadata": {},
     "output_type": "execute_result"
    }
   ],
   "source": [
    "qc.x(1)\n",
    "\n",
    "ket = Statevector(qc)\n",
    "ket.draw()"
   ]
  },
  {
   "cell_type": "code",
   "execution_count": 7,
   "id": "86679710-f3c6-4a28-b275-f2e5a7a63f2c",
   "metadata": {
    "tags": []
   },
   "outputs": [
    {
     "data": {
      "text/plain": [
       "'Statevector([0.+0.j, 0.+0.j, 0.+0.j, 1.+0.j],\\n            dims=(2, 2))'"
      ]
     },
     "execution_count": 7,
     "metadata": {},
     "output_type": "execute_result"
    }
   ],
   "source": [
    "qc.cx(1,0)\n",
    "\n",
    "ket = Statevector(qc)\n",
    "ket.draw()"
   ]
  },
  {
   "cell_type": "code",
   "execution_count": 8,
   "id": "f566eea5-c9e4-4f69-ab85-e6c07feb3f71",
   "metadata": {
    "tags": []
   },
   "outputs": [
    {
     "data": {
      "text/plain": [
       "'Statevector([0.70710678+0.j, 0.        +0.j, 0.70710678+0.j,\\n             0.        +0.j],\\n            dims=(2, 2))'"
      ]
     },
     "execution_count": 8,
     "metadata": {},
     "output_type": "execute_result"
    }
   ],
   "source": [
    "\n",
    "qc = QuantumCircuit(2)\n",
    "\n",
    "qc.h(1)\n",
    "\n",
    "ket = Statevector(qc)\n",
    "ket.draw()"
   ]
  },
  {
   "cell_type": "code",
   "execution_count": 9,
   "id": "4ea948f5-8776-4ff6-b529-3bca5868bb38",
   "metadata": {
    "tags": []
   },
   "outputs": [
    {
     "data": {
      "text/plain": [
       "'Statevector([0.70710678+0.j, 0.        +0.j, 0.        +0.j,\\n             0.70710678+0.j],\\n            dims=(2, 2))'"
      ]
     },
     "execution_count": 9,
     "metadata": {},
     "output_type": "execute_result"
    }
   ],
   "source": [
    "qc.cx(1,0)\n",
    "\n",
    "ket = Statevector(qc)\n",
    "ket.draw()"
   ]
  },
  {
   "cell_type": "code",
   "execution_count": 11,
   "id": "90f5ccbe-425d-4063-bed6-7ed8cce22933",
   "metadata": {
    "tags": []
   },
   "outputs": [],
   "source": [
    "MESSAGE='00'\n",
    "#encoding message\n",
    "qc_shreya = QuantumCircuit(2, 2)\n",
    "if MESSAGE[-1]=='1':\n",
    "    qc_shreya.x(0)\n",
    "if MESSAGE[-2]=='1':\n",
    "    qc_shreya.x(1)"
   ]
  },
  {
   "cell_type": "code",
   "execution_count": 12,
   "id": "57a06df6-3263-407d-a15d-7874e0528a94",
   "metadata": {
    "tags": []
   },
   "outputs": [
    {
     "data": {
      "text/plain": [
       "{'00': 1024}"
      ]
     },
     "execution_count": 12,
     "metadata": {},
     "output_type": "execute_result"
    }
   ],
   "source": [
    "from qiskit import Aer\n",
    "#decoding\n",
    "backend = Aer.get_backend('aer_simulator')\n",
    "qc_riya = QuantumCircuit(2,2)\n",
    "qc_riya.measure([0,1],[0,1])\n",
    "\n",
    "backend.run(qc_shreya.compose(qc_riya)).result().get_counts()"
   ]
  },
  {
   "cell_type": "code",
   "execution_count": null,
   "id": "2159a60d-fc56-4dca-a5be-0f23a4250b45",
   "metadata": {},
   "outputs": [],
   "source": [
    "#the above program did not involve entaglement \n"
   ]
  },
  {
   "cell_type": "code",
   "execution_count": 13,
   "id": "730cf382-a1b4-47cb-9bbd-e475d91f0736",
   "metadata": {
    "tags": []
   },
   "outputs": [
    {
     "data": {
      "text/plain": [
       "'Statevector([0.70710678+0.j, 0.        +0.j, 0.        +0.j,\\n             0.70710678+0.j],\\n            dims=(2, 2))'"
      ]
     },
     "execution_count": 13,
     "metadata": {},
     "output_type": "execute_result"
    }
   ],
   "source": [
    "#creating entaglement \n",
    "MESSAGE = '00'\n",
    "\n",
    "qc_shreya = QuantumCircuit(2,2)\n",
    "\n",
    "# encodes the message\n",
    "if MESSAGE[-1]=='1':\n",
    "    qc_shreya.x(0)\n",
    "if MESSAGE[-2]=='1':\n",
    "    qc_shreya.x(1)\n",
    "\n",
    "# creates entangled states\n",
    "qc_shreya.h(1)\n",
    "qc_shreya.cx(1,0)\n",
    "\n",
    "ket = Statevector(qc_shreya)\n",
    "ket.draw()"
   ]
  },
  {
   "cell_type": "code",
   "execution_count": 14,
   "id": "524d4388-07bd-43f4-a140-854a73ca2818",
   "metadata": {
    "tags": []
   },
   "outputs": [
    {
     "data": {
      "image/png": "[encoded data removed]",
      "text/plain": [
       "<Figure size 454.517x284.278 with 1 Axes>"
      ]
     },
     "execution_count": 14,
     "metadata": {},
     "output_type": "execute_result"
    }
   ],
   "source": [
    "qc_riya = QuantumCircuit(2,2)\n",
    "# disentangles\n",
    "qc_riya.cx(1,0)\n",
    "qc_riya.h(1)\n",
    "# Then measures\n",
    "qc_riya.measure([0,1],[0,1])\n",
    "\n",
    "qc_riya.draw()"
   ]
  },
  {
   "cell_type": "code",
   "execution_count": 16,
   "id": "e74e679d-3859-416c-b442-b696f6caaa58",
   "metadata": {
    "tags": []
   },
   "outputs": [
    {
     "data": {
      "text/plain": [
       "'Statevector([0.70710678+0.j, 0.        +0.j, 0.        +0.j,\\n             0.70710678+0.j],\\n            dims=(2, 2))'"
      ]
     },
     "execution_count": 16,
     "metadata": {},
     "output_type": "execute_result"
    }
   ],
   "source": [
    "#creating entangled state and changing it \n",
    "MESSAGE = '00'\n",
    "\n",
    "qc_shreya = QuantumCircuit(2,2)\n",
    "qc_shreya.h(1)\n",
    "qc_shreya.cx(1,0)\n",
    "\n",
    "if MESSAGE[-2]=='1':\n",
    "    qc_shreya.z(1)\n",
    "if MESSAGE[-1]=='1':\n",
    "    qc_shreya.x(1)\n",
    "\n",
    "ket = Statevector(qc_shreya)\n",
    "ket.draw()"
   ]
  },
  {
   "cell_type": "code",
   "execution_count": 19,
   "id": "645e328f-0c08-4c3b-a6ea-f183c53b3760",
   "metadata": {
    "tags": []
   },
   "outputs": [
    {
     "data": {
      "text/plain": [
       "{'11': 530, '00': 494}"
      ]
     },
     "execution_count": 19,
     "metadata": {},
     "output_type": "execute_result"
    }
   ],
   "source": [
    "from qiskit import Aer\n",
    "#decoding\n",
    "backend = Aer.get_backend('aer_simulator')\n",
    "qc_riya = QuantumCircuit(2,2)\n",
    "qc_riya.measure([0,1],[0,1])\n",
    "\n",
    "backend.run(qc_shreya.compose(qc_riya)).result().get_counts()"
   ]
  },
  {
   "cell_type": "code",
   "execution_count": 21,
   "id": "ef48c024-d96f-438b-b998-e137b50492b4",
   "metadata": {
    "tags": []
   },
   "outputs": [
    {
     "data": {
      "image/png": "[encoded data removed]",
      "text/plain": [
       "<Figure size 287.294x284.278 with 1 Axes>"
      ]
     },
     "execution_count": 21,
     "metadata": {},
     "output_type": "execute_result"
    }
   ],
   "source": [
    "qc_e = QuantumCircuit(2,2)\n",
    "qc_e.h(1)\n",
    "qc_e.cx(1,0)\n",
    "\n",
    "qc_e.draw()"
   ]
  },
  {
   "cell_type": "code",
   "execution_count": 22,
   "id": "68e1b0eb-f08a-4906-af47-79135995e8ac",
   "metadata": {
    "tags": []
   },
   "outputs": [],
   "source": [
    "MESSAGE = '01'\n",
    "\n",
    "qc_shreya = QuantumCircuit(2,2)\n",
    "\n",
    "if MESSAGE[-2]=='1':\n",
    "    qc_shreya.z(1)\n",
    "if MESSAGE[-1]=='1':\n",
    "    qc_shreya.x(1)"
   ]
  },
  {
   "cell_type": "code",
   "execution_count": null,
   "id": "990f8d7f-44d9-432e-bdf4-790e2987302f",
   "metadata": {},
   "outputs": [],
   "source": [
    "complete_qc = qc_e.compose(qc_alice.compose(qc_bob))\n",
    "backend.run(complete_qc).result().get_counts()"
   ]
  }
 ],
 "metadata": {
  "kernelspec": {
   "display_name": "Python 3 (ipykernel)",
   "language": "python",
   "name": "python3"
  },
  "language_info": {
   "codemirror_mode": {
    "name": "ipython",
    "version": 3
   },
   "file_extension": ".py",
   "mimetype": "text/x-python",
   "name": "python",
   "nbconvert_exporter": "python",
   "pygments_lexer": "ipython3",
   "version": "3.10.8"
  },
  "widgets": {
   "application/vnd.jupyter.widget-state+json": {
    "state": {
     "0109ca575f684e4faa08b100d589bf8f": {
      "model_module": "@jupyter-widgets/controls",
      "model_module_version": "2.0.0",
      "model_name": "GridBoxModel",
      "state": {
       "children": [
        "IPY_MODEL_63dfc197df3c4ac5a910326c7c57038b"
       ],
       "layout": "IPY_MODEL_25b1ee75714a48f8a4f2e172d2d26209"
      }
     },
     "11ab9875490541d7b897fc0b35e5c305": {
      "model_module": "@jupyter-widgets/controls",
      "model_module_version": "2.0.0",
      "model_name": "HTMLStyleModel",
      "state": {
       "description_width": "",
       "font_size": null,
       "text_color": null
      }
     },
     "14cc231be7854e0cb054dff3f4516f74": {
      "model_module": "@jupyter-widgets/base",
      "model_module_version": "2.0.0",
      "model_name": "LayoutModel",
      "state": {
       "grid_area": "right",
       "padding": "0px 0px 0px 0px",
       "width": "70px"
      }
     },
     "25b1ee75714a48f8a4f2e172d2d26209": {
      "model_module": "@jupyter-widgets/base",
      "model_module_version": "2.0.0",
      "model_name": "LayoutModel",
      "state": {
       "grid_template_areas": "\n                                       \". . . . right \"\n                                        ",
       "grid_template_columns": "20% 20% 20% 20% 20%",
       "width": "100%"
      }
     },
     "32f2163fc0734839a25d993e40247435": {
      "model_module": "@jupyter-widgets/controls",
      "model_module_version": "2.0.0",
      "model_name": "ButtonStyleModel",
      "state": {
       "font_family": null,
       "font_size": null,
       "font_style": null,
       "font_variant": null,
       "font_weight": null,
       "text_color": null,
       "text_decoration": null
      }
     },
     "35108197aaf5452da94c444e76eefb35": {
      "model_module": "@jupyter-widgets/controls",
      "model_module_version": "2.0.0",
      "model_name": "HTMLStyleModel",
      "state": {
       "description_width": "",
       "font_size": null,
       "text_color": null
      }
     },
     "51cf1d2937cb44a5a3b6cab7153ed093": {
      "model_module": "@jupyter-widgets/controls",
      "model_module_version": "2.0.0",
      "model_name": "HTMLModel",
      "state": {
       "layout": "IPY_MODEL_5fa87b62ed9f48299c154642d7a6be19",
       "style": "IPY_MODEL_ca5f05b5c2e64bd784731ad3f5c2d7b6",
       "value": "<h5>Status</h5>"
      }
     },
     "53e8aa42d60c4e32a8f8b1ebb7e9ff67": {
      "model_module": "@jupyter-widgets/base",
      "model_module_version": "2.0.0",
      "model_name": "LayoutModel",
      "state": {
       "width": "190px"
      }
     },
     "55b9496310a24a05ae62a4c0d03db5e2": {
      "model_module": "@jupyter-widgets/base",
      "model_module_version": "2.0.0",
      "model_name": "LayoutModel",
      "state": {
       "width": "145px"
      }
     },
     "5fa87b62ed9f48299c154642d7a6be19": {
      "model_module": "@jupyter-widgets/base",
      "model_module_version": "2.0.0",
      "model_name": "LayoutModel",
      "state": {
       "width": "95px"
      }
     },
     "63dfc197df3c4ac5a910326c7c57038b": {
      "model_module": "@jupyter-widgets/controls",
      "model_module_version": "2.0.0",
      "model_name": "ButtonModel",
      "state": {
       "button_style": "primary",
       "description": "Clear",
       "layout": "IPY_MODEL_14cc231be7854e0cb054dff3f4516f74",
       "style": "IPY_MODEL_32f2163fc0734839a25d993e40247435",
       "tooltip": null
      }
     },
     "664da3752b2e479184d0041fc9681889": {
      "model_module": "@jupyter-widgets/base",
      "model_module_version": "2.0.0",
      "model_name": "LayoutModel",
      "state": {
       "width": "70px"
      }
     },
     "6baf6250333b44648a5fc3a1df18b774": {
      "model_module": "@jupyter-widgets/controls",
      "model_module_version": "2.0.0",
      "model_name": "HTMLModel",
      "state": {
       "layout": "IPY_MODEL_664da3752b2e479184d0041fc9681889",
       "style": "IPY_MODEL_b86377cef1974273b786e6ccb57e759c",
       "value": "<h5>Queue</h5>"
      }
     },
     "783ba473fb5f49d18e363cb79c7b9795": {
      "model_module": "@jupyter-widgets/controls",
      "model_module_version": "2.0.0",
      "model_name": "HTMLModel",
      "state": {
       "layout": "IPY_MODEL_7d4821e589674dd2b6199a2fa69225e1",
       "style": "IPY_MODEL_7c64e5798fd342778d530cfbffd30b15",
       "value": "<p style='font-family: IBM Plex Sans, Arial, Helvetica, sans-serif; font-size: 20px; font-weight: medium;'>Circuit Properties</p>"
      }
     },
     "7c64e5798fd342778d530cfbffd30b15": {
      "model_module": "@jupyter-widgets/controls",
      "model_module_version": "2.0.0",
      "model_name": "HTMLStyleModel",
      "state": {
       "description_width": "",
       "font_size": null,
       "text_color": null
      }
     },
     "7d4821e589674dd2b6199a2fa69225e1": {
      "model_module": "@jupyter-widgets/base",
      "model_module_version": "2.0.0",
      "model_name": "LayoutModel",
      "state": {
       "margin": "0px 0px 10px 0px"
      }
     },
     "91462d4ed1be468590eb5cd6934a2490": {
      "model_module": "@jupyter-widgets/controls",
      "model_module_version": "2.0.0",
      "model_name": "HTMLModel",
      "state": {
       "layout": "IPY_MODEL_a684854c93104eab83260f7f55e929e5",
       "style": "IPY_MODEL_35108197aaf5452da94c444e76eefb35",
       "value": "<h5>Message</h5>"
      }
     },
     "93715e6b016e4bfeb6466ac84e3e691e": {
      "model_module": "@jupyter-widgets/controls",
      "model_module_version": "2.0.0",
      "model_name": "HTMLModel",
      "state": {
       "layout": "IPY_MODEL_55b9496310a24a05ae62a4c0d03db5e2",
       "style": "IPY_MODEL_11ab9875490541d7b897fc0b35e5c305",
       "value": "<h5>Backend</h5>"
      }
     },
     "9511dac498604b6b8d792765135d0559": {
      "model_module": "@jupyter-widgets/controls",
      "model_module_version": "2.0.0",
      "model_name": "HTMLModel",
      "state": {
       "layout": "IPY_MODEL_53e8aa42d60c4e32a8f8b1ebb7e9ff67",
       "style": "IPY_MODEL_ca67c66ae2554b1a9a9fce67163b79f8",
       "value": "<h5>Job ID</h5>"
      }
     },
     "a684854c93104eab83260f7f55e929e5": {
      "model_module": "@jupyter-widgets/base",
      "model_module_version": "2.0.0",
      "model_name": "LayoutModel",
      "state": {}
     },
     "b86377cef1974273b786e6ccb57e759c": {
      "model_module": "@jupyter-widgets/controls",
      "model_module_version": "2.0.0",
      "model_name": "HTMLStyleModel",
      "state": {
       "description_width": "",
       "font_size": null,
       "text_color": null
      }
     },
     "ca5f05b5c2e64bd784731ad3f5c2d7b6": {
      "model_module": "@jupyter-widgets/controls",
      "model_module_version": "2.0.0",
      "model_name": "HTMLStyleModel",
      "state": {
       "description_width": "",
       "font_size": null,
       "text_color": null
      }
     },
     "ca67c66ae2554b1a9a9fce67163b79f8": {
      "model_module": "@jupyter-widgets/controls",
      "model_module_version": "2.0.0",
      "model_name": "HTMLStyleModel",
      "state": {
       "description_width": "",
       "font_size": null,
       "text_color": null
      }
     },
     "dfa4a92756cc45c0afe7c3d54959cfc3": {
      "model_module": "@jupyter-widgets/base",
      "model_module_version": "2.0.0",
      "model_name": "LayoutModel",
      "state": {
       "margin": "0px 0px 0px 37px",
       "width": "600px"
      }
     },
     "e45602455c5e4509b785908143f342b8": {
      "model_module": "@jupyter-widgets/controls",
      "model_module_version": "2.0.0",
      "model_name": "HBoxModel",
      "state": {
       "children": [
        "IPY_MODEL_9511dac498604b6b8d792765135d0559",
        "IPY_MODEL_93715e6b016e4bfeb6466ac84e3e691e",
        "IPY_MODEL_51cf1d2937cb44a5a3b6cab7153ed093",
        "IPY_MODEL_6baf6250333b44648a5fc3a1df18b774",
        "IPY_MODEL_91462d4ed1be468590eb5cd6934a2490"
       ],
       "layout": "IPY_MODEL_dfa4a92756cc45c0afe7c3d54959cfc3"
      }
     }
    },
    "version_major": 2,
    "version_minor": 0
   }
  }
 },
 "nbformat": 4,
 "nbformat_minor": 5
}
